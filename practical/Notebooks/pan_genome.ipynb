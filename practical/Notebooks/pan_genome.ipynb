{
 "cells": [
  {
   "cell_type": "markdown",
   "metadata": {},
   "source": [
    "# The Pangenome explained\n",
    "\n",
    "The pangenome for a proakryote population is the complete set of genes that it contains. This includes genes present in all isolates, and genes that are present in only a subset of isolates (even just one isolate). The subset of genes present in all of the isolates is called the **core genome**. These are often highly conserved genes with important functions, for instance housekeeping genes. The subset of genes that are not present in all, but in two or more of the isolates, is called the **accessory genome**. The accessory genome often contains genes that have been transferred between baterial strains, for example genes linked to virulence or drug resistance. Genes present in only one of the isolates can be referred to as **strain specific**."
   ]
  },
  {
   "cell_type": "markdown",
   "metadata": {},
   "source": [
    "![Pan genome](img/pangenome.png)"
   ]
  },
  {
   "cell_type": "markdown",
   "metadata": {},
   "source": [
    "The pan, core and acessory genomes can provide important insight into the genetic structure of prokaryotic genomes. By analysing the pangenome we can gain a better understanding of key processes like evolution and selection. Roay is a software tool that allows you to calculate the pangenome for a set of isolates from a set of annotated genome assemblies. It is fast and accurate and can conveniently be run on most modern PCs. In this tutorial we are going to guide you through a complete pangenome analysis, starting with annotation of the genome assemblies, construction of the pangenome, and finally visualisation of the results.\n",
    "\n",
    "## Check your understanding\n",
    "**Q1: The pangenome contains:**  \n",
    "a) Only genes present in one isolate in a population  \n",
    "b) All genes from all isolates in a population  \n",
    "c) Only genes present in all isolates in a population  \n",
    "  \n",
    "  \n",
    "**Q2: Core genes are:**  \n",
    "a) Often important for basic cell functions  \n",
    "b) Present in only a subset of the isolates of a population  \n",
    "c) Often related to drug resistance  \n",
    "  \n",
    "Now that you have an understanding of pangenomes, go to the next session: [Preparing the input data for Roary](prepare_data.ipynb)  "
   ]
  }
 ],
 "metadata": {
  "kernelspec": {
   "display_name": "Bash",
   "language": "bash",
   "name": "bash"
  },
  "language_info": {
   "codemirror_mode": "shell",
   "file_extension": ".sh",
   "mimetype": "text/x-sh",
   "name": "bash"
  }
 },
 "nbformat": 4,
 "nbformat_minor": 2
}
