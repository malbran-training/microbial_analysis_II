{
 "cells": [
  {
   "cell_type": "markdown",
   "metadata": {},
   "source": [
    "# Creating genome assemblies\n",
    "\n",
    "Genome assembly is the process of taking a large number of fragments of DNA and putting them back together to create a representation of the original DNA sequence from which they originated."
   ]
  },
  {
   "cell_type": "markdown",
   "metadata": {},
   "source": [
    "![Genome assembly](img/genome_assembly.png)"
   ]
  },
  {
   "cell_type": "markdown",
   "metadata": {},
   "source": [
    "Many genomes contain large numbers of repeat sequences. Often these repeats are thousands of nucleotides long, and some occur in many different locations in the genome. This makes genome assembly a very difficult computational problem to solve. However, there are many genome assembly tools that exist that can produce long contiguous sequences (contigs) from sequencing reads. The assembly tool that you use will be determined by different factors, largely this will be the length of the sequencing reads and the sequencing technology used to produce the reads."
   ]
  },
  {
   "cell_type": "markdown",
   "metadata": {},
   "source": [
    "First, check you are in the correct directory."
   ]
  },
  {
   "cell_type": "code",
   "execution_count": null,
   "metadata": {},
   "outputs": [],
   "source": [
    "pwd"
   ]
  },
  {
   "cell_type": "markdown",
   "metadata": {},
   "source": [
    "It should display something like:\n",
    "\n",
    "`/home/manager/course_data/pangenome/data`"
   ]
  },
  {
   "cell_type": "markdown",
   "metadata": {},
   "source": [
    "## Assemble a genome with SPAdes\n",
    "\n",
    "Now we are going to use the `SPAdes` assembly tool to generate an assembly. As always it is a good idea to get a look at the options that a program accepts using the -h option. SPAdes is actually written in python and the base script name is \"spades.py\"."
   ]
  },
  {
   "cell_type": "code",
   "execution_count": null,
   "metadata": {},
   "outputs": [],
   "source": [
    "spades.py -h"
   ]
  },
  {
   "cell_type": "markdown",
   "metadata": {},
   "source": [
    "To assemble the data for sample ERR657310 using `SPAdes` and default parameters use:"
   ]
  },
  {
   "cell_type": "code",
   "execution_count": null,
   "metadata": {},
   "outputs": [],
   "source": [
    "spades.py --pe1-1 fastq/ERR657310_1.fastq.gz --pe1-2 fastq/ERR657310_2.fastq.gz --only-assembler --careful -o ERR657310 -k 33,43,53,63 --threads 2"
   ]
  },
  {
   "cell_type": "markdown",
   "metadata": {},
   "source": [
    "Note again this command is split over multiple lines but should be typed as one command in one line in the terminal window. This may take some time to run so please be patient. \n",
    "\n",
    "`SPAdes` (St. Petersburg genome assembler) is a genome assembly algorithm which was designed for single cell and multi-cell bacterial data sets. Therefore, it might not be suitable for large genomes projects. `SPAdes` works with Ion Torrent, PacBio, Oxford Nanopore, and Illumina paired-end, mate-pairs and single reads. \n",
    "\n",
    "Here we are using it to assemble Illumina paired end data. Take a look at the parameters passed to SPAdes, what do the different parameters mean?"
   ]
  },
  {
   "cell_type": "markdown",
   "metadata": {},
   "source": [
    "When the assembly is complete look at the files that were produced by SPAdes:"
   ]
  },
  {
   "cell_type": "code",
   "execution_count": null,
   "metadata": {},
   "outputs": [],
   "source": [
    "ls ERR657310"
   ]
  },
  {
   "cell_type": "markdown",
   "metadata": {},
   "source": [
    "As you can see from listing the contents of the output `sample3` directory, several new files have been generated. There are two files that I consider to be the most important. \n",
    "* `contigs.fasta` - this is the actual result of all the different contigs that were created. For circular chromosomes (such as plasmids) the goal would be that there is a single contig meaning that all of the reads were able to close the circle. \n",
    "* `spades.log` - this has the information about the completed run that you can use to compare different samples or conditions in the event that you are interested trying to optimize the command options, as would likely be the case if you were trying to assemble the best reference possible."
   ]
  },
  {
   "cell_type": "markdown",
   "metadata": {},
   "source": [
    "## Assembly metrics\n",
    "\n",
    "To generate metrics to assess the quality of the assembly you can use a program called `assembly-stats`. It displays the number of contigs, the mean contig size and a lot of other useful metrics about the assembly. These numbers can be used to assess the quality of your assembly."
   ]
  },
  {
   "cell_type": "code",
   "execution_count": null,
   "metadata": {},
   "outputs": [],
   "source": [
    "assembly-stats ERR657310/contigs.fasta"
   ]
  },
  {
   "cell_type": "markdown",
   "metadata": {},
   "source": [
    "Now look at the output of `assembly-stats` and answer the questions below"
   ]
  },
  {
   "cell_type": "markdown",
   "metadata": {},
   "source": [
    "## Check your understanding\n",
    "**Q16: What is the size of the assembly?**\n",
    "\n",
    "**Q17: How many contigs did it assemble into?** \n",
    "\n",
    "**Q18: What is the largest contig?** \n",
    "\n",
    "**Q19: What is the N50?** \n",
    "\n",
    "**Q20: Is this a good assembly?** "
   ]
  },
  {
   "cell_type": "markdown",
   "metadata": {},
   "source": [
    "Another good software tool to assess the quality of your assemblies is [`Quast` (http://bioinf.spbau.ru/quast)](http://bioinf.spbau.ru/quast). However, we do not have time here to cover the use of Quast here."
   ]
  },
  {
   "cell_type": "markdown",
   "metadata": {},
   "source": [
    "## Genome assembly pipelines\n",
    "Unfortunately, to generate high quality genome assemblies it is usually not as straightforward as just running an assembly tool like `SPAdes`. There are several pre-processing and post-processing steps than need to be carried out in order to improve the chances of creating a good quality assembly. These steps can include:\n",
    "\n",
    "* Trimming reads to remove low quality bases\n",
    "* Trimming reads to remove sequence adapter\n",
    "* Correcting sequencing errors in the reads\n",
    "* Downsampling the data to allow the assembly to run within reasonable time and memory\n",
    "* Mapping reads back to the assembly to correct errors in the assembly\n",
    "* Filtering small/low quality contigs from the assembly "
   ]
  },
  {
   "cell_type": "markdown",
   "metadata": {},
   "source": [
    "Fortunately, there are some pipelines available that incorporate all these steps and can be used to assemble genomes in batch for multiple samples. Two pipelines are:\n",
    "\n",
    "* [Pathogenwatch/GHRU assembly (https://gitlab.com/cgps/ghru/pipelines/dsl2/pipelines/assembly)](https://gitlab.com/cgps/ghru/pipelines/dsl2/pipelines/assembly)\n",
    "* [Shovill (https://github.com/tseemann/shovill)](https://github.com/tseemann/shovill)\n",
    "\n",
    "The steps involved in each of these pipelines are outlined below."
   ]
  },
  {
   "cell_type": "markdown",
   "metadata": {},
   "source": [
    "### Pathogenwatch/GHRU\n",
    "\n",
    "![Pathogenwatch/GHRU genome assembly pipeline](img/ghru_assembly_pipeline.png)"
   ]
  },
  {
   "cell_type": "markdown",
   "metadata": {},
   "source": [
    "### Shovill\n",
    "\n",
    "![Shovill genome assembly pipeline](img/shovill_assembly_pipeline.png)"
   ]
  },
  {
   "cell_type": "markdown",
   "metadata": {},
   "source": [
    "We do not have time to cover the use of these pipelines in this tutorial. But we highly recommend using them if you intend to assembly your own data."
   ]
  },
  {
   "cell_type": "markdown",
   "metadata": {},
   "source": [
    "***Congratulations!*** You have reached the end of the tutorial."
   ]
  }
 ],
 "metadata": {
  "kernelspec": {
   "display_name": "Bash",
   "language": "bash",
   "name": "bash"
  },
  "language_info": {
   "codemirror_mode": "shell",
   "file_extension": ".sh",
   "mimetype": "text/x-sh",
   "name": "bash"
  }
 },
 "nbformat": 4,
 "nbformat_minor": 2
}
