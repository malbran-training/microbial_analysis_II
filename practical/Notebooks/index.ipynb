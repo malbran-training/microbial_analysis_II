{
 "cells": [
  {
   "cell_type": "markdown",
   "metadata": {},
   "source": [
    "# Pangenome Construction with Roary\n",
    "\n",
    "## Introduction\n",
    "\n",
    "When analysing prokaryotic genomes it is important to take into account the differences in gene content resulting from horizontal gene transfer, gene duplication and gene loss. Such differences can play a role in increased virulence or antimicrobial drug resistance. Aligning sequence data for an isolate to a single reference genome can fail to incorporate non-reference sequences and fail to account for these types of differences. \n",
    "\n",
    "One approach to ovecome this limitation is to perform a pangenome analysis of your isolates. The pangenome is the set of all genes that have been found in a set of isolates. Within the pangenome, genes are often then described as being part of the ‘core’ genome, the set of genes present in all isolates, or the non-core (‘accessory’) genome. Gaining a better picture of the conserved genes of a species, and the accessory genome, can lead to a better understanding of key processes such as selection and evolution. \n",
    "\n",
    "There are several tools avaiable for pangenome analysis, including Panaroo and Roary. In this tutorial we will demonstarte how Roary can be used to perform a pangenome analysis. For more in depth information about Roary, please feel free to have a look the Roary paper:\n",
    "\n",
    "> **Roary: Rapid large-scale prokaryote pan genome analysis**  \n",
    "> Andrew J. Page, Carla A. Cummins, Martin Hunt, Vanessa K. Wong, Sandra Reuter, Matthew T. G. Holden, Maria Fookes, Daniel Falush, Jacqueline A. Keane, Julian Parkhill  \n",
    "> _Bioinformatics, 2015;31(22):3691-3693 doi:[10.1093/bioinformatics/btv421](http://bioinformatics.oxfordjournals.org/content/31/22/3691)_\n",
    "\n",
    "A copy of the paper can be found at \n",
    "\n",
    "`~/course_data/pangenome/roary_paper.pdf`\n",
    "\n",
    "Or visit the [Roary manual at http://sanger-pathogens.github.io/Roary/](http://sanger-pathogens.github.io/Roary/).\n",
    "\n",
    "## Learning outcomes\n",
    "By the end of this tutorial you can expect to be able to:\n",
    "\n",
    "* Describe what a pangenome is\n",
    "* Use Roary to construct a pangenome \n",
    "* Understand the different output files produced by Roary\n",
    "* Draw a basic tree from the core gene alignment produced by Roary\n",
    "* Query the pangenome results produced by Roary\n",
    "* Use Phandango to visualise the results produced by Roary\n",
    "* Generate an annotated genome assembly\n",
    "\n",
    "## Tutorial sections\n",
    "This tutorial comprises the following sections:   \n",
    " 1. [The pangenome explained](pan_genome.ipynb)   \n",
    " 2. [Preparing the input data for Roary](prepare_data.ipynb)   \n",
    " 3. [Performing QC on your data](qc.ipynb)   \n",
    " 4. [Constructing a pangenome with Roary](run_roary.ipynb)   \n",
    " 5. [Exploring the results](results.ipynb)   \n",
    " 6. [Visualising the results with Phandango](phandango.ipynb)   \n",
    " 7. [Creating genome assemblies](assembly.ipynb)   \n",
    "\n",
    "## Authors and License\n",
    "This tutorial was created by [Jacqui Keane](https://github.com/ssjunnebo) and [Sara Sjunnebo](https://github.com/ssjunnebo).\n",
    "\n",
    "The content is licensed under a [Creative Commons Attribution 4.0 International License (CC-By 4.0)](https://creativecommons.org/licenses/by/4.0/)."
   ]
  },
  {
   "cell_type": "markdown",
   "metadata": {},
   "source": [
    "## Running the commands from this tutorial\n",
    "You can follow this tutorial by running all the commands you see in a terminal window on your computer. Remember, the terminal window is similar to the \"Command Prompt\" window on MS Windows systems, which allows the user to type DOS commands to manage files.\n",
    "\n",
    "To get started, open a terminal window and type the command below folowed by the `Enter` key:"
   ]
  },
  {
   "cell_type": "code",
   "execution_count": null,
   "metadata": {},
   "outputs": [],
   "source": [
    "cd ~/course_data/pangenome/data"
   ]
  },
  {
   "cell_type": "markdown",
   "metadata": {},
   "source": [
    "## Prerequisites\n",
    "This tutorial assumes that you have the following software and their dependencies installed on your computer. The software used in this tutorial may be updated from time to time so, we have also given you the version which was used when writing this tutorial.\n",
    "\n",
    "\n",
    "| Package name  | Link for download/installation instructions                          | Version |\n",
    "| :----------:  | :------------------------------------------------------------------: |:------: |\n",
    "| Prokka        | https://github.com/tseemann/prokka                                   | 1.14.6  |\n",
    "| Roary         | https://github.com/sanger-pathogens/roary                            | 3.13.0  |\n",
    "| Fastree       | http://www.microbesonline.org/fasttree/                              | 2.1.11  |\n",
    "| Spades        | https://github.com/ablab/spades                                      | 3.15.5  |\n",
    "| assembly-stats| https://github.com/sanger-pathogens/assembly-stats                   | 1.0.1   |\n",
    "\n",
    "The easiest way to install the required software is using `conda`, a software package manager. These software have already been installed on the computer for you. To activate them run:"
   ]
  },
  {
   "cell_type": "code",
   "execution_count": null,
   "metadata": {},
   "outputs": [],
   "source": [
    "conda activate pangenome"
   ]
  },
  {
   "cell_type": "markdown",
   "metadata": {},
   "source": [
    "After the software is activated run the following commands:"
   ]
  },
  {
   "cell_type": "code",
   "execution_count": null,
   "metadata": {},
   "outputs": [],
   "source": [
    "prokka --help\n",
    "roary --help\n",
    "fasttree -h\n",
    "spades.py -h\n",
    "assembly-stats"
   ]
  },
  {
   "cell_type": "markdown",
   "metadata": {},
   "source": [
    "This should return the help messages for all the software tools you will use in this tutorial."
   ]
  },
  {
   "cell_type": "markdown",
   "metadata": {},
   "source": [
    "To get started with the tutorial, go to the first section: [The pangenome explained](pan_genome.ipynb)  "
   ]
  }
 ],
 "metadata": {
  "kernelspec": {
   "display_name": "Bash",
   "language": "bash",
   "name": "bash"
  },
  "language_info": {
   "codemirror_mode": "shell",
   "file_extension": ".sh",
   "mimetype": "text/x-sh",
   "name": "bash"
  }
 },
 "nbformat": 4,
 "nbformat_minor": 2
}
