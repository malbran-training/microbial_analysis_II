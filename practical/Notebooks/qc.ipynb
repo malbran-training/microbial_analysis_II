{
 "cells": [
  {
   "cell_type": "markdown",
   "metadata": {},
   "source": [
    "# Performing QC on your data\n",
    "The results you can get from any analysis will only ever be as good as the data you put into it. To avoid spending countless hours performing analysis without receiving any satisfactory results, or worse yet erroneous or misleading results, it is important to QC your data before starting. There are a number of checks you can make to ensure you are dealing with good quality data, and we will walk you through some of them here. \n",
    "\n",
    "## Contamination\n",
    "In order to get meaningful results from `Roary`, the samples should be closely related. If you have lots of contamination in your data, for instance if one of your samples is from a different species, you will get very few genes in your core genome, if any at all.  \n",
    "\n",
    "It is always a good idea to check that your samples are the species you expect them to be. You can use tools such as `Bactinspector` or [`Kraken` (https://www.ebi.ac.uk/research/enright/software/kraken)](https://www.ebi.ac.uk/research/enright/software/kraken) for this. `Roary` has a qc option that will run `Kraken` for you and generate a report listing the top species of all the samples.\n",
    "\n",
    "We will not run `Kraken` now but an example report may look something like this:"
   ]
  },
  {
   "cell_type": "markdown",
   "metadata": {},
   "source": [
    "![QC report](img/qc_report.png)"
   ]
  },
  {
   "cell_type": "markdown",
   "metadata": {},
   "source": [
    "As we expected, these three samples are all of the same species. Let's assume that we had an additional fourth sample and we run `Roary` with the qc option, we get the following output:"
   ]
  },
  {
   "cell_type": "markdown",
   "metadata": {},
   "source": [
    "![QC report with contamination](img/qc_contamination.png)"
   ]
  },
  {
   "cell_type": "markdown",
   "metadata": {},
   "source": [
    "This tells us that the most prevalent species in sample 4 is in fact *Escherichia coli* so we will exclude this sample from our analysis before we carry on.\n",
    "\n",
    "## Coverage\n",
    "To get reasonable quality assemblies, you need a genome coverage of at least 30x. Remember to get a quick estimate of your coverage, you can divide the number of bases in your sequence data with the number of bases in the reference genome of the species. For the samples used in this tutorial, the coverage is listed below. The genome of  _S. pneumoniae_ is approximately 2,200,000 bases.\n",
    "\n",
    "|Sample |No. of Bases|Coverage|\n",
    "|------ |------------|--------|\n",
    "|sample1|262705400   |120x    |\n",
    "|sample2|218026200   |99x     |\n",
    "|sample3|173524000   |79x     |\n",
    "\n",
    "## Assembly size\n",
    "The size of the assemblies can also provide a useful hint. If one of the assemblies is much smaller or bigger than the others there is a chance that this is not of the same species as the rest.\n",
    "\n",
    "## Fragmented assemblies\n",
    "If the assemblies are very fragmented (thousands of contigs), the genes may be too fragmented for inferring the pangenome.\n",
    "\n",
    "These are just some of the most basic things that you can do to make sure your data looks ok. There is much more that can be done but we won't go into any further detail in this tutorial.\n",
    "\n",
    "To generate some basic metrics about genome assemblies you can use the `assembly-stats` tools."
   ]
  },
  {
   "cell_type": "code",
   "execution_count": null,
   "metadata": {},
   "outputs": [],
   "source": [
    "assembly-stats assemblies/sample1.fasta"
   ]
  },
  {
   "cell_type": "markdown",
   "metadata": {},
   "source": [
    "## Check your understanding\n",
    "**Q5: Why is it important to QC your data?**  \n",
    "  \n",
    "**Q6: You're not getting any core genes when you run Roary. What could be the reason?**  \n",
    "\n",
    "**Q7: What is the size of the assembly for sample1?**  \n",
    "\n",
    "**Q8: How many contigs are in the assembly of sample1?**  "
   ]
  },
  {
   "cell_type": "markdown",
   "metadata": {},
   "source": [
    "Now you should be ready to run Roary to construct a pangenome, so go to the next section, [Constructing a Pangenome using Roary](run_roary.ipynb).  "
   ]
  }
 ],
 "metadata": {
  "kernelspec": {
   "display_name": "Bash",
   "language": "bash",
   "name": "bash"
  },
  "language_info": {
   "codemirror_mode": "shell",
   "file_extension": ".sh",
   "mimetype": "text/x-sh",
   "name": "bash"
  }
 },
 "nbformat": 4,
 "nbformat_minor": 2
}
